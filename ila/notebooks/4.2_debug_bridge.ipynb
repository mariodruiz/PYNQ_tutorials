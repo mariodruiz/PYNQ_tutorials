{
 "cells": [
  {
   "cell_type": "markdown",
   "id": "6f1e94f8",
   "metadata": {},
   "source": [
    "Execute code below once to get latest `Debug Bridge` driver"
   ]
  },
  {
   "cell_type": "code",
   "execution_count": null,
   "id": "774c2729",
   "metadata": {},
   "outputs": [],
   "source": [
    "!wget https://raw.githubusercontent.com/Xilinx/PYNQ/master/pynq/lib/debugbridge.py -O debugbridge.py\n",
    "!mv  debugbridge.py /usr/local/share/pynq-venv/lib/python3.10/site-packages/pynq/lib/debugbridge.py"
   ]
  },
  {
   "cell_type": "markdown",
   "id": "e2cddf33",
   "metadata": {},
   "source": [
    "Download overlay and grab DMA aliases"
   ]
  },
  {
   "cell_type": "code",
   "execution_count": null,
   "id": "26dc8de3-6181-4809-8539-2e6aa3417179",
   "metadata": {},
   "outputs": [],
   "source": [
    "from pynq import Overlay, allocate, PL\n",
    "import numpy as np\n",
    "\n",
    "PL.reset()\n",
    "\n",
    "ol = Overlay('dma_dbridge.bit')\n",
    "dma = ol.axi_dma\n",
    "dma_send = ol.axi_dma.sendchannel\n",
    "dma_recv = ol.axi_dma.recvchannel"
   ]
  },
  {
   "cell_type": "markdown",
   "id": "1764769b",
   "metadata": {},
   "source": [
    "Show all available IP"
   ]
  },
  {
   "cell_type": "code",
   "execution_count": null,
   "id": "88e083a5-9598-4ddd-b3c6-16657a6f5cb5",
   "metadata": {},
   "outputs": [],
   "source": [
    "ol.ip_dict"
   ]
  },
  {
   "cell_type": "markdown",
   "id": "39d57871",
   "metadata": {},
   "source": [
    "Bind `Debug Bridge` IP to the PYNQ driver"
   ]
  },
  {
   "cell_type": "code",
   "execution_count": null,
   "id": "63b2b726-9821-42bf-a904-05c9f2a12adb",
   "metadata": {},
   "outputs": [],
   "source": [
    "bridge = ol.debug_bridge_0"
   ]
  },
  {
   "cell_type": "markdown",
   "id": "d255d25f",
   "metadata": {},
   "source": [
    "Start `xvc_server` accepting connections from any IP"
   ]
  },
  {
   "cell_type": "code",
   "execution_count": null,
   "id": "c414380a-e67a-4d49-8086-7dd855b6bcd9",
   "metadata": {},
   "outputs": [],
   "source": [
    "bridge.start_xvc_server(bufferLen=4096, serverAddress=\"0.0.0.0\",\n",
    "                 serverPort=2542, reconnect=True, verbose=True)"
   ]
  },
  {
   "cell_type": "markdown",
   "id": "ce2bfbcc",
   "metadata": {},
   "source": [
    "Show board IP, assuming Ethernet is connected"
   ]
  },
  {
   "cell_type": "code",
   "execution_count": null,
   "id": "db0218b9-7237-4efe-80e5-661893fb4783",
   "metadata": {},
   "outputs": [],
   "source": [
    "!ifconfig eth0 | grep 'inet ' | awk '{print $2}'"
   ]
  },
  {
   "cell_type": "markdown",
   "id": "6f490f55",
   "metadata": {},
   "source": [
    "You now can connect to the XVC server from your Vivado instance.\n",
    "\n",
    "Allocate buffers"
   ]
  },
  {
   "cell_type": "code",
   "execution_count": null,
   "id": "0243f89a-aae7-4c6e-af48-c9d8027b3507",
   "metadata": {},
   "outputs": [],
   "source": [
    "data_size = 16\n",
    "\n",
    "input_buffer = allocate(shape=(data_size,), dtype=np.uint32)\n",
    "output_buffer = allocate(shape=(data_size,), dtype=np.uint32)\n",
    "input_buffer[:] = np.arange(data_size, dtype=np.uint32)"
   ]
  },
  {
   "cell_type": "markdown",
   "id": "f83fea6d-9f11-48b7-9415-c945fb9fb8e0",
   "metadata": {},
   "source": [
    "In Vivado Hardware Manager, set the trigger to start capturing when TVALID of *axi_dma_M_AXIS_MM2S* is 1 or in the rising edge."
   ]
  },
  {
   "cell_type": "code",
   "execution_count": null,
   "id": "e8cae369-a124-4e00-b2dc-002a46681baf",
   "metadata": {},
   "outputs": [],
   "source": [
    "dma_recv.transfer(output_buffer)\n",
    "dma_send.transfer(input_buffer)\n",
    "dma_send.wait()\n",
    "\n",
    "dma_recv.wait()\n",
    "print(f'Are buffers equal after DMA? {np.array_equal(output_buffer, input_buffer)}')"
   ]
  },
  {
   "cell_type": "markdown",
   "id": "f551391d-655d-43b9-a8ed-2e40bced7313",
   "metadata": {},
   "source": [
    "Stop the XVC server"
   ]
  },
  {
   "cell_type": "code",
   "execution_count": null,
   "id": "9da980ac-6cbc-4626-8910-664df0ff6e18",
   "metadata": {},
   "outputs": [],
   "source": [
    "bridge.stop_xvc_server()"
   ]
  },
  {
   "cell_type": "markdown",
   "id": "3fb93205-5980-49de-b5a7-03ce4c8cd06f",
   "metadata": {},
   "source": [
    "Release the buffers and overlay"
   ]
  },
  {
   "cell_type": "code",
   "execution_count": null,
   "id": "95a13507-91c1-4949-8f3c-7051644e5a33",
   "metadata": {},
   "outputs": [],
   "source": [
    "del input_buffer, output_buffer\n",
    "ol.free()"
   ]
  }
 ],
 "metadata": {
  "kernelspec": {
   "display_name": "Python 3 (ipykernel)",
   "language": "python",
   "name": "python3"
  },
  "language_info": {
   "codemirror_mode": {
    "name": "ipython",
    "version": 3
   },
   "file_extension": ".py",
   "mimetype": "text/x-python",
   "name": "python",
   "nbconvert_exporter": "python",
   "pygments_lexer": "ipython3",
   "version": "3.10.4"
  }
 },
 "nbformat": 4,
 "nbformat_minor": 5
}
