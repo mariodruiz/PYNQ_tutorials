{
 "cells": [
  {
   "cell_type": "markdown",
   "id": "488849aa-74a8-479a-af6f-0c9210b2b8f4",
   "metadata": {},
   "source": [
    "Download overlay and grab DMA aliases"
   ]
  },
  {
   "cell_type": "markdown",
   "id": "058fe726",
   "metadata": {},
   "source": [
    "<div class=\"alert alert-box alert-warning\">\n",
    "For <b>Kria</b> boards use the `Debug Bridge` IP instead of the JTAG cable.\n",
    "</div>"
   ]
  },
  {
   "cell_type": "code",
   "execution_count": null,
   "id": "fc2f3813-ae0a-4d49-8dda-f147f9cc8ec4",
   "metadata": {},
   "outputs": [],
   "source": [
    "from pynq import Overlay, allocate, PL\n",
    "import numpy as np\n",
    "\n",
    "PL.reset()\n",
    "\n",
    "ol = Overlay('dma_subset.bit')\n",
    "dma = ol.axi_dma\n",
    "dma_send = ol.axi_dma.sendchannel\n",
    "dma_recv = ol.axi_dma.recvchannel"
   ]
  },
  {
   "cell_type": "markdown",
   "id": "8f33ed39-b905-4296-8c25-e3020f00df4f",
   "metadata": {},
   "source": [
    "In Vivado open **Open Hardware Manger**, then **Open Target** then **Auto Connect**"
   ]
  },
  {
   "cell_type": "markdown",
   "id": "caf8056c-e69f-4b3f-bc80-b6d404fcb136",
   "metadata": {},
   "source": [
    "Allocate input and output buffer, then initialize input buffer. Output buffer is half the size to trigger a Runtime error"
   ]
  },
  {
   "cell_type": "code",
   "execution_count": null,
   "id": "083926f4-2888-4cc5-97cc-be0ad4c70c62",
   "metadata": {},
   "outputs": [],
   "source": [
    "data_size = 10\n",
    "\n",
    "input_buffer = allocate(shape=(data_size,), dtype=np.uint32)\n",
    "output_buffer = allocate(shape=(20,), dtype=np.uint32)\n",
    "\n",
    "input_buffer[:] = np.arange(data_size, dtype=np.uint32)"
   ]
  },
  {
   "cell_type": "markdown",
   "id": "bfe5a7cd-8469-4258-8e46-00ebecc02c42",
   "metadata": {},
   "source": [
    "In Vivado Hardware Manager, set the trigger to start capturing when `TVALID` of *axis_data_fifo_M_AXIS* is 1 or in the rising edge.\n",
    "\n",
    "Set the number of windows to 1 with a depth of 1024 and the trigger position to 0"
   ]
  },
  {
   "cell_type": "markdown",
   "id": "8b3e64ea-3214-42c9-ab07-670edfe122a2",
   "metadata": {},
   "source": [
    "This will lead to `dma_recv.wait()` not to complete, after a few second use the `Interrupt Kernel button`"
   ]
  },
  {
   "cell_type": "code",
   "execution_count": null,
   "id": "730d48bb-1a51-42f9-a0c0-253a1f19f5ab",
   "metadata": {},
   "outputs": [],
   "source": [
    "dma_recv.transfer(output_buffer)\n",
    "dma_send.transfer(input_buffer)\n",
    "dma_recv.wait()"
   ]
  },
  {
   "cell_type": "markdown",
   "id": "ac7e5a1e-5c2c-4a57-a6e2-1a56d587c461",
   "metadata": {},
   "source": [
    "Unfortunately, the `dma.register_map` does not provide useful information."
   ]
  },
  {
   "cell_type": "code",
   "execution_count": null,
   "id": "99c16dda-93f7-4e19-872b-c2de26186ebe",
   "metadata": {},
   "outputs": [],
   "source": [
    "dma.register_map"
   ]
  },
  {
   "cell_type": "markdown",
   "id": "6fbc566b",
   "metadata": {},
   "source": [
    "Send input buffer again to complete transaction"
   ]
  },
  {
   "cell_type": "code",
   "execution_count": null,
   "id": "a22cdce1-7859-4743-a36e-d39609850569",
   "metadata": {},
   "outputs": [],
   "source": [
    "dma_send.transfer(input_buffer)\n",
    "dma_recv.wait()\n",
    "print(f'{output_buffer=}')"
   ]
  },
  {
   "cell_type": "markdown",
   "id": "6e01d2a5",
   "metadata": {},
   "source": [
    "Verify register map again"
   ]
  },
  {
   "cell_type": "code",
   "execution_count": null,
   "id": "9605943c-7580-4c1a-9175-d9cbe015e4f8",
   "metadata": {},
   "outputs": [],
   "source": [
    "dma.register_map"
   ]
  },
  {
   "cell_type": "markdown",
   "id": "80527d37",
   "metadata": {},
   "source": [
    "Release the buffers and overlay"
   ]
  },
  {
   "cell_type": "code",
   "execution_count": null,
   "id": "5d381574-4be2-4114-ad52-2f4ca5c7191b",
   "metadata": {},
   "outputs": [],
   "source": [
    "del input_buffer, output_buffer\n",
    "ol.free()"
   ]
  }
 ],
 "metadata": {
  "kernelspec": {
   "display_name": "Python 3 (ipykernel)",
   "language": "python",
   "name": "python3"
  },
  "language_info": {
   "codemirror_mode": {
    "name": "ipython",
    "version": 3
   },
   "file_extension": ".py",
   "mimetype": "text/x-python",
   "name": "python",
   "nbconvert_exporter": "python",
   "pygments_lexer": "ipython3",
   "version": "3.10.4"
  }
 },
 "nbformat": 4,
 "nbformat_minor": 5
}
