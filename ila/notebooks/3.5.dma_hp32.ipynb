{
 "cells": [
  {
   "cell_type": "markdown",
   "id": "488849aa-74a8-479a-af6f-0c9210b2b8f4",
   "metadata": {},
   "source": [
    "Download overlay and grab DMA aliases"
   ]
  },
  {
   "cell_type": "markdown",
   "id": "37b1f194",
   "metadata": {},
   "source": [
    "<div class=\"alert alert-box alert-warning\">\n",
    "For <b>Kria</b> boards use the `Debug Bridge` IP instead of the JTAG cable.\n",
    "</div>"
   ]
  },
  {
   "cell_type": "code",
   "execution_count": null,
   "id": "fc2f3813-ae0a-4d49-8dda-f147f9cc8ec4",
   "metadata": {},
   "outputs": [],
   "source": [
    "from pynq import Overlay, allocate, PL\n",
    "import numpy as np\n",
    "\n",
    "PL.reset()\n",
    "\n",
    "ol = Overlay('dma_hp32.bit')\n",
    "dma = ol.axi_dma\n",
    "dma_send = ol.axi_dma.sendchannel\n",
    "dma_recv = ol.axi_dma.recvchannel"
   ]
  },
  {
   "cell_type": "markdown",
   "id": "8f33ed39-b905-4296-8c25-e3020f00df4f",
   "metadata": {},
   "source": [
    "In Vivado open **Open Hardware Manger**, then **Open Target** then **Auto Connect**"
   ]
  },
  {
   "cell_type": "markdown",
   "id": "caf8056c-e69f-4b3f-bc80-b6d404fcb136",
   "metadata": {},
   "source": [
    "Allocate intput and output buffer, then initialize input buffer"
   ]
  },
  {
   "cell_type": "code",
   "execution_count": null,
   "id": "083926f4-2888-4cc5-97cc-be0ad4c70c62",
   "metadata": {},
   "outputs": [],
   "source": [
    "data_size = 20\n",
    "\n",
    "input_buffer = allocate(shape=(data_size,), dtype=np.uint32)\n",
    "output_buffer = allocate(shape=(data_size,), dtype=np.uint32)\n",
    "\n",
    "input_buffer[:] = np.arange(data_size, data_size+data_size, dtype=np.uint32)"
   ]
  },
  {
   "cell_type": "markdown",
   "id": "30807d3d-cf0b-41cb-947d-06af2787974e",
   "metadata": {},
   "source": [
    "In Vivado Hardware Manager, set the trigger to start capturing when `TVALID` of *axi_dma_M_AXIS_MM2S* is 1 or in the rising edge.\n",
    "\n",
    "Set the number of windows to 1 with a depth of 1024 and the trigger position to 0"
   ]
  },
  {
   "cell_type": "code",
   "execution_count": null,
   "id": "60c548dd-2f7c-4a2b-958a-f139a5e6687e",
   "metadata": {},
   "outputs": [],
   "source": [
    "dma_recv.transfer(output_buffer)\n",
    "dma_send.transfer(input_buffer)\n",
    "dma_send.wait()\n",
    "dma_recv.wait()"
   ]
  },
  {
   "cell_type": "markdown",
   "id": "8f1ca6ab",
   "metadata": {},
   "source": [
    "For Zynq devices and MPSoC (only when width is 32), you should see that elements in the array in the odd index are zero.\n",
    "\n",
    "Compare input and output buffers"
   ]
  },
  {
   "cell_type": "code",
   "execution_count": null,
   "id": "8f03ac70-defa-4adc-863c-6f781d3604ce",
   "metadata": {},
   "outputs": [],
   "source": [
    "print(f'{input_buffer=}')\n",
    "print(f'{output_buffer=}')"
   ]
  },
  {
   "cell_type": "code",
   "execution_count": null,
   "id": "c8c57b44-48c7-4f1c-9c65-2641f8ba7d60",
   "metadata": {},
   "outputs": [],
   "source": [
    "if ol.ip_dict.get('processing_system7_0'):\n",
    "    ps = ol.ip_dict.get('processing_system7_0')\n",
    "    hp_ports = [f'C_S_AXI_HP{idx}_DATA_WIDTH' for idx in range(4)]\n",
    "    width = [64]\n",
    "else:\n",
    "    ps = ol.ip_dict.get('zynq_ultra_ps_e')\n",
    "    hp_ports = [f'C_SAXIGP{idx}_DATA_WIDTH' for idx in range(6)]\n",
    "    width = [128, 64]\n",
    "\n",
    "for i in hp_ports:\n",
    "    w = ps['parameters'][i]\n",
    "    print(f\"{i}: {w}, configured correctly? {int(w) in width}\")"
   ]
  },
  {
   "cell_type": "markdown",
   "id": "7a403746",
   "metadata": {},
   "source": [
    "Release the buffers and overlay"
   ]
  },
  {
   "cell_type": "code",
   "execution_count": null,
   "id": "5d381574-4be2-4114-ad52-2f4ca5c7191b",
   "metadata": {},
   "outputs": [],
   "source": [
    "del input_buffer, output_buffer\n",
    "ol.free()"
   ]
  }
 ],
 "metadata": {
  "kernelspec": {
   "display_name": "Python 3 (ipykernel)",
   "language": "python",
   "name": "python3"
  },
  "language_info": {
   "codemirror_mode": {
    "name": "ipython",
    "version": 3
   },
   "file_extension": ".py",
   "mimetype": "text/x-python",
   "name": "python",
   "nbconvert_exporter": "python",
   "pygments_lexer": "ipython3",
   "version": "3.10.4"
  }
 },
 "nbformat": 4,
 "nbformat_minor": 5
}
