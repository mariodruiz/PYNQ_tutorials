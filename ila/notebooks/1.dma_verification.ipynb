{
 "cells": [
  {
   "cell_type": "markdown",
   "id": "afced284-b559-4d07-87df-d22cfb3a6403",
   "metadata": {},
   "source": [
    "Download overlay and grab DMA aliases"
   ]
  },
  {
   "cell_type": "code",
   "execution_count": null,
   "id": "a37466f9-10d2-444b-a526-49224129cbfb",
   "metadata": {},
   "outputs": [],
   "source": [
    "from pynq import Overlay, allocate, PL\n",
    "import numpy as np\n",
    "\n",
    "PL.reset()\n",
    "\n",
    "ol = Overlay('dma.bit')\n",
    "dma = ol.axi_dma\n",
    "dma_send = ol.axi_dma.sendchannel\n",
    "dma_recv = ol.axi_dma.recvchannel"
   ]
  },
  {
   "cell_type": "markdown",
   "id": "5539ca38-ddae-4b80-ba5f-85282c6aeefb",
   "metadata": {},
   "source": [
    "Define data size, declare buffers and initialize input buffer"
   ]
  },
  {
   "cell_type": "code",
   "execution_count": null,
   "id": "ad9e096a-3067-452b-bf74-45186a87ee63",
   "metadata": {},
   "outputs": [],
   "source": [
    "data_size = 100\n",
    "\n",
    "input_buffer = allocate(shape=(data_size,), dtype=np.uint32)\n",
    "output_buffer = allocate(shape=(data_size,), dtype=np.uint32)\n",
    "input_buffer[:] = np.arange(data_size, dtype=np.uint32)"
   ]
  },
  {
   "cell_type": "markdown",
   "id": "50303bb2-7334-4114-8b4e-31bf2481ca95",
   "metadata": {},
   "source": [
    "Verify that input and output buffers are **not equal**"
   ]
  },
  {
   "cell_type": "code",
   "execution_count": null,
   "id": "506404c6-c82c-4f70-ac64-e2b6188b1bee",
   "metadata": {},
   "outputs": [],
   "source": [
    "print(f'Are buffers equal before DMA? {np.array_equal(output_buffer, input_buffer)}')"
   ]
  },
  {
   "cell_type": "code",
   "execution_count": null,
   "id": "3c198dbc-abae-4312-a174-1127534a07cd",
   "metadata": {},
   "outputs": [],
   "source": [
    "dma_send.transfer(input_buffer)\n",
    "dma_recv.transfer(output_buffer)\n",
    "\n",
    "dma_send.wait()\n",
    "dma_recv.wait()"
   ]
  },
  {
   "cell_type": "markdown",
   "id": "474bbf77-4ac3-47ef-a2e5-cafc362df4d8",
   "metadata": {},
   "source": [
    "Verify that input and output buffers are **equal**"
   ]
  },
  {
   "cell_type": "code",
   "execution_count": null,
   "id": "5e81e44d-9938-4c35-af7f-fd208c9c9e6b",
   "metadata": {},
   "outputs": [],
   "source": [
    "print(f'Are buffers equal after DMA? {np.array_equal(output_buffer, input_buffer)}')"
   ]
  },
  {
   "cell_type": "code",
   "execution_count": null,
   "id": "b44fedd6-e38f-4569-9bdb-87d21976e536",
   "metadata": {},
   "outputs": [],
   "source": [
    "del input_buffer, output_buffer\n",
    "ol.free()"
   ]
  }
 ],
 "metadata": {
  "kernelspec": {
   "display_name": "Python 3 (ipykernel)",
   "language": "python",
   "name": "python3"
  },
  "language_info": {
   "codemirror_mode": {
    "name": "ipython",
    "version": 3
   },
   "file_extension": ".py",
   "mimetype": "text/x-python",
   "name": "python",
   "nbconvert_exporter": "python",
   "pygments_lexer": "ipython3",
   "version": "3.10.4"
  }
 },
 "nbformat": 4,
 "nbformat_minor": 5
}
